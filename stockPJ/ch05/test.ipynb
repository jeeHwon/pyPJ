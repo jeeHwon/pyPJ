{
 "metadata": {
  "language_info": {
   "codemirror_mode": {
    "name": "ipython",
    "version": 3
   },
   "file_extension": ".py",
   "mimetype": "text/x-python",
   "name": "python",
   "nbconvert_exporter": "python",
   "pygments_lexer": "ipython3",
   "version": "3.7.9-final"
  },
  "orig_nbformat": 2,
  "kernelspec": {
   "name": "python3",
   "display_name": "Python 3"
  }
 },
 "nbformat": 4,
 "nbformat_minor": 2,
 "cells": [
  {
   "cell_type": "code",
   "execution_count": 11,
   "metadata": {},
   "outputs": [],
   "source": [
    "import pandas as pd\n",
    "from bs4 import BeautifulSoup\n",
    "import urllib, pymysql, calendar, time, json\n",
    "import pymysql\n",
    "from urllib.request import urlopen\n",
    "from datetime import datetime\n",
    "from threading import Timer\n",
    "import pymysql\n",
    "\n",
    "conn = pymysql.connect(host='localhost', port=3307, db='investar', user='root', passwd='asdf1038', charset='utf8')\n",
    "\n",
    "with conn.cursor() as curs:\n",
    "    sql = \"\"\"\n",
    "    create table if not exists company_info(\n",
    "        code varchar(20),\n",
    "        company varchar(40),\n",
    "        last_update date,\n",
    "        primary key (code))\n",
    "    \"\"\"\n",
    "    curs.execute(sql)\n",
    "    sql = \"\"\"\n",
    "    create table if not exists daily_price(\n",
    "        code varchar(20),\n",
    "        date DATE,\n",
    "        open bigint(20),\n",
    "        high bigint(20),\n",
    "        low bigint(20),\n",
    "        close bigint(20),\n",
    "        diff bigint(20),\n",
    "        volume bigint(20),\n",
    "        primary key (code, date))\n",
    "    \"\"\"\n",
    "    curs.execute(sql)\n",
    "conn.commit()\n",
    "codes = dict()"
   ]
  },
  {
   "cell_type": "code",
   "execution_count": 14,
   "metadata": {},
   "outputs": [
    {
     "output_type": "execute_result",
     "data": {
      "text/plain": [
       "        code   company\n",
       "0     005560      JS전선\n",
       "1     101380     거북선2호\n",
       "2     114140     거북선6호\n",
       "3     064900     교보메리츠\n",
       "4     028780    국제관광공사\n",
       "...      ...       ...\n",
       "3883  199800        툴젠\n",
       "3884  222670  플럼라인생명과학\n",
       "3885  239890   피엔에이치테크\n",
       "3886  331660  한국미라클피플사\n",
       "3887  212310       휴벡셀\n",
       "\n",
       "[3888 rows x 2 columns]"
      ],
      "text/html": "<div>\n<style scoped>\n    .dataframe tbody tr th:only-of-type {\n        vertical-align: middle;\n    }\n\n    .dataframe tbody tr th {\n        vertical-align: top;\n    }\n\n    .dataframe thead th {\n        text-align: right;\n    }\n</style>\n<table border=\"1\" class=\"dataframe\">\n  <thead>\n    <tr style=\"text-align: right;\">\n      <th></th>\n      <th>code</th>\n      <th>company</th>\n    </tr>\n  </thead>\n  <tbody>\n    <tr>\n      <th>0</th>\n      <td>005560</td>\n      <td>JS전선</td>\n    </tr>\n    <tr>\n      <th>1</th>\n      <td>101380</td>\n      <td>거북선2호</td>\n    </tr>\n    <tr>\n      <th>2</th>\n      <td>114140</td>\n      <td>거북선6호</td>\n    </tr>\n    <tr>\n      <th>3</th>\n      <td>064900</td>\n      <td>교보메리츠</td>\n    </tr>\n    <tr>\n      <th>4</th>\n      <td>028780</td>\n      <td>국제관광공사</td>\n    </tr>\n    <tr>\n      <th>...</th>\n      <td>...</td>\n      <td>...</td>\n    </tr>\n    <tr>\n      <th>3883</th>\n      <td>199800</td>\n      <td>툴젠</td>\n    </tr>\n    <tr>\n      <th>3884</th>\n      <td>222670</td>\n      <td>플럼라인생명과학</td>\n    </tr>\n    <tr>\n      <th>3885</th>\n      <td>239890</td>\n      <td>피엔에이치테크</td>\n    </tr>\n    <tr>\n      <th>3886</th>\n      <td>331660</td>\n      <td>한국미라클피플사</td>\n    </tr>\n    <tr>\n      <th>3887</th>\n      <td>212310</td>\n      <td>휴벡셀</td>\n    </tr>\n  </tbody>\n</table>\n<p>3888 rows × 2 columns</p>\n</div>"
     },
     "metadata": {},
     "execution_count": 14
    }
   ],
   "source": [
    "def read_krx_code():\n",
    "    \"\"\"KRX로부터 상장법인목록 파일을 읽어와서 데이터프레임으로 반환\"\"\"\n",
    "    url = 'https://kind.krx.co.kr/corpgeneral/corpList.do?method=download&serachType=13'\n",
    "    krx = pd.read_html(url, header=0)[0]\n",
    "    krx = krx[['종목코드', '회사명']]\n",
    "    krx = krx.rename(columns={'종목코드':'code', '회사명':'company'})\n",
    "    krx.code = krx.code.map('{:06d}'.format)\n",
    "    return krx\n",
    "\n",
    "temp = read_krx_code()\n",
    "temp"
   ]
  },
  {
   "cell_type": "code",
   "execution_count": 17,
   "metadata": {},
   "outputs": [
    {
     "output_type": "stream",
     "name": "stdout",
     "text": [
      "start_date:  2020-08-30\n"
     ]
    }
   ],
   "source": [
    "import re\n",
    "start_date = '2020 year 8/30'\n",
    "start_lst = re.split('\\D+', start_date)\n",
    "start_year = int(start_lst[0])\n",
    "start_month = int(start_lst[1])\n",
    "start_day = int(start_lst[2])\n",
    "start_date = f\"{start_year:04d}-{start_month:02d}-{start_day:02d}\"\n",
    "print('start_date: ', start_date)"
   ]
  },
  {
   "cell_type": "code",
   "execution_count": null,
   "metadata": {},
   "outputs": [],
   "source": []
  }
 ]
}