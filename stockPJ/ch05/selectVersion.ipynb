{
 "metadata": {
  "language_info": {
   "codemirror_mode": {
    "name": "ipython",
    "version": 3
   },
   "file_extension": ".py",
   "mimetype": "text/x-python",
   "name": "python",
   "nbconvert_exporter": "python",
   "pygments_lexer": "ipython3",
   "version": "3.8.4-final"
  },
  "orig_nbformat": 2,
  "kernelspec": {
   "name": "python3",
   "display_name": "Python 3.8.4 32-bit ('Py380_32')",
   "metadata": {
    "interpreter": {
     "hash": "5abb369ba1df330c0cfccd66b7594f6186e26c8124d8f4fa0d29b2e475221cb2"
    }
   }
  }
 },
 "nbformat": 4,
 "nbformat_minor": 2,
 "cells": [
  {
   "cell_type": "code",
   "execution_count": 2,
   "metadata": {},
   "outputs": [
    {
     "output_type": "stream",
     "name": "stdout",
     "text": [
      "MariaDB version : ('10.5.8-MariaDB',)\n"
     ]
    }
   ],
   "source": [
    "import pymysql\n",
    "# MariaDB 연결하기\n",
    "connection  = pymysql.connect(host='localhost', port=3307, db='investar', user='root', passwd='asdf1038')\n",
    "cursor = connection.cursor()\n",
    "cursor.execute(\"select version();\")\n",
    "result = cursor.fetchone()\n",
    "print('MariaDB version : {}'.format(result)) # tuple 형태로 반환\n",
    "connection.close()\n"
   ]
  },
  {
   "cell_type": "code",
   "execution_count": null,
   "metadata": {},
   "outputs": [],
   "source": []
  }
 ]
}