{
 "metadata": {
  "language_info": {
   "codemirror_mode": {
    "name": "ipython",
    "version": 3
   },
   "file_extension": ".py",
   "mimetype": "text/x-python",
   "name": "python",
   "nbconvert_exporter": "python",
   "pygments_lexer": "ipython3",
   "version": "3.7.9-final"
  },
  "orig_nbformat": 2,
  "kernelspec": {
   "name": "python3",
   "display_name": "Python 3"
  }
 },
 "nbformat": 4,
 "nbformat_minor": 2,
 "cells": [
  {
   "cell_type": "code",
   "execution_count": 4,
   "metadata": {},
   "outputs": [
    {
     "output_type": "stream",
     "name": "stdout",
     "text": [
      "[*********************100%***********************]  1 of 1 completed\n",
      "[*********************100%***********************]  1 of 1 completed\n"
     ]
    },
    {
     "output_type": "execute_result",
     "data": {
      "text/plain": [
       "                   Open         High  ...    Adj Close    Volume\n",
       "Date                                  ...                       \n",
       "2000-01-04  1028.329956  1066.180054  ...  1059.040039  19589800\n",
       "2000-01-05  1006.869995  1026.520020  ...   986.309998  25769600\n",
       "2000-01-06  1013.950012  1014.900024  ...   960.789978  20352300\n",
       "2000-01-07   949.169983   970.159973  ...   948.650024  21566400\n",
       "2000-01-10   979.669983   994.940002  ...   987.239990  24017500\n",
       "...                 ...          ...  ...          ...       ...\n",
       "2020-11-13  2470.120117  2495.770020  ...  2493.870117   1072400\n",
       "2020-11-16  2507.459961  2546.370117  ...  2543.030029   1239100\n",
       "2020-11-17  2544.120117  2556.090088  ...  2539.149902   1266400\n",
       "2020-11-18  2548.850098  2553.949951  ...  2545.639893    923500\n",
       "2020-11-19  2536.889893  2548.949951  ...  2547.419922    961468\n",
       "\n",
       "[5141 rows x 6 columns]"
      ],
      "text/html": "<div>\n<style scoped>\n    .dataframe tbody tr th:only-of-type {\n        vertical-align: middle;\n    }\n\n    .dataframe tbody tr th {\n        vertical-align: top;\n    }\n\n    .dataframe thead th {\n        text-align: right;\n    }\n</style>\n<table border=\"1\" class=\"dataframe\">\n  <thead>\n    <tr style=\"text-align: right;\">\n      <th></th>\n      <th>Open</th>\n      <th>High</th>\n      <th>Low</th>\n      <th>Close</th>\n      <th>Adj Close</th>\n      <th>Volume</th>\n    </tr>\n    <tr>\n      <th>Date</th>\n      <th></th>\n      <th></th>\n      <th></th>\n      <th></th>\n      <th></th>\n      <th></th>\n    </tr>\n  </thead>\n  <tbody>\n    <tr>\n      <th>2000-01-04</th>\n      <td>1028.329956</td>\n      <td>1066.180054</td>\n      <td>1016.590027</td>\n      <td>1059.040039</td>\n      <td>1059.040039</td>\n      <td>19589800</td>\n    </tr>\n    <tr>\n      <th>2000-01-05</th>\n      <td>1006.869995</td>\n      <td>1026.520020</td>\n      <td>984.049988</td>\n      <td>986.309998</td>\n      <td>986.309998</td>\n      <td>25769600</td>\n    </tr>\n    <tr>\n      <th>2000-01-06</th>\n      <td>1013.950012</td>\n      <td>1014.900024</td>\n      <td>953.500000</td>\n      <td>960.789978</td>\n      <td>960.789978</td>\n      <td>20352300</td>\n    </tr>\n    <tr>\n      <th>2000-01-07</th>\n      <td>949.169983</td>\n      <td>970.159973</td>\n      <td>930.840027</td>\n      <td>948.650024</td>\n      <td>948.650024</td>\n      <td>21566400</td>\n    </tr>\n    <tr>\n      <th>2000-01-10</th>\n      <td>979.669983</td>\n      <td>994.940002</td>\n      <td>974.820007</td>\n      <td>987.239990</td>\n      <td>987.239990</td>\n      <td>24017500</td>\n    </tr>\n    <tr>\n      <th>...</th>\n      <td>...</td>\n      <td>...</td>\n      <td>...</td>\n      <td>...</td>\n      <td>...</td>\n      <td>...</td>\n    </tr>\n    <tr>\n      <th>2020-11-13</th>\n      <td>2470.120117</td>\n      <td>2495.770020</td>\n      <td>2460.959961</td>\n      <td>2493.870117</td>\n      <td>2493.870117</td>\n      <td>1072400</td>\n    </tr>\n    <tr>\n      <th>2020-11-16</th>\n      <td>2507.459961</td>\n      <td>2546.370117</td>\n      <td>2507.459961</td>\n      <td>2543.030029</td>\n      <td>2543.030029</td>\n      <td>1239100</td>\n    </tr>\n    <tr>\n      <th>2020-11-17</th>\n      <td>2544.120117</td>\n      <td>2556.090088</td>\n      <td>2533.340088</td>\n      <td>2539.149902</td>\n      <td>2539.149902</td>\n      <td>1266400</td>\n    </tr>\n    <tr>\n      <th>2020-11-18</th>\n      <td>2548.850098</td>\n      <td>2553.949951</td>\n      <td>2536.780029</td>\n      <td>2545.639893</td>\n      <td>2545.639893</td>\n      <td>923500</td>\n    </tr>\n    <tr>\n      <th>2020-11-19</th>\n      <td>2536.889893</td>\n      <td>2548.949951</td>\n      <td>2529.530029</td>\n      <td>2547.419922</td>\n      <td>2547.419922</td>\n      <td>961468</td>\n    </tr>\n  </tbody>\n</table>\n<p>5141 rows × 6 columns</p>\n</div>"
     },
     "metadata": {},
     "execution_count": 4
    }
   ],
   "source": [
    "from pandas_datareader import data as pdr \n",
    "import yfinance as yf \n",
    "yf.pdr_override()\n",
    "\n",
    "dow = pdr.get_data_yahoo('^DJI', '2000-01-04')\n",
    "kospi = pdr.get_data_yahoo('^KS11', '2000-01-04')\n",
    "\n",
    "import matplotlib.pyplot as plt \n"
   ]
  },
  {
   "cell_type": "code",
   "execution_count": null,
   "metadata": {},
   "outputs": [],
   "source": []
  }
 ]
}