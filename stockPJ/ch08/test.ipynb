{
 "metadata": {
  "language_info": {
   "codemirror_mode": {
    "name": "ipython",
    "version": 3
   },
   "file_extension": ".py",
   "mimetype": "text/x-python",
   "name": "python",
   "nbconvert_exporter": "python",
   "pygments_lexer": "ipython3",
   "version": "3.8.0-final"
  },
  "orig_nbformat": 2,
  "kernelspec": {
   "name": "python3",
   "display_name": "Python 3"
  }
 },
 "nbformat": 4,
 "nbformat_minor": 2,
 "cells": [
  {
   "cell_type": "code",
   "execution_count": 1,
   "metadata": {},
   "outputs": [],
   "source": [
    "import ctypes\n",
    "import win32com.client\n",
    "cpStatus  = win32com.client.Dispatch('CpUtil.CpCybos')\n",
    "cpTradeUtil = win32com.client.Dispatch('CpTrade.CpTdUtil')"
   ]
  },
  {
   "cell_type": "code",
   "execution_count": 16,
   "metadata": {},
   "outputs": [
    {
     "output_type": "stream",
     "name": "stdout",
     "text": [
      "check_creon_system() : admin user -> FAILED\n"
     ]
    },
    {
     "output_type": "execute_result",
     "data": {
      "text/plain": [
       "False"
      ]
     },
     "metadata": {},
     "execution_count": 16
    }
   ],
   "source": [
    "def check_creon_system():\n",
    "    # 관리자 권한으로 프로세스 실행 여부\n",
    "    if not ctypes.windll.shell32.IsUserAnAdmin():\n",
    "        print('check_creon_system() : admin user -> FAILED')\n",
    "        return False\n",
    "\n",
    "    # 연결여부 체크\n",
    "    if (cpStatus.IsConnect == 0):\n",
    "        print('check_creon_system() : connect to server -> FAILED')\n",
    "        return False\n",
    "\n",
    "    # 주문 관련 초기화\n",
    "    if (cpTradeUtil.TradeInit(0) != 0):\n",
    "        print('check_creon_system() : init trade -> FAILED')\n",
    "        return False\n",
    "    \n",
    "    return True\n",
    "check_creon_system()"
   ]
  },
  {
   "cell_type": "code",
   "execution_count": null,
   "metadata": {},
   "outputs": [],
   "source": [
    "obj = win32com.client.Dispatch(\"DsCbo1.StockMst\")\n",
    "obj.SetInputValue(0, 'A005930')\n",
    "obj.BlockRequest()\n",
    "sec = {}\n",
    "sec['현재가'] = obj.GetHeaderValue(11)\n",
    "sec['전일대비'] = obj.GetHeaderValue(12)\n",
    "print(sec)"
   ]
  },
  {
   "cell_type": "code",
   "execution_count": null,
   "metadata": {},
   "outputs": [],
   "source": []
  }
 ]
}