{
 "metadata": {
  "language_info": {
   "codemirror_mode": {
    "name": "ipython",
    "version": 3
   },
   "file_extension": ".py",
   "mimetype": "text/x-python",
   "name": "python",
   "nbconvert_exporter": "python",
   "pygments_lexer": "ipython3",
   "version": "3.8.3-final"
  },
  "orig_nbformat": 2,
  "kernelspec": {
   "name": "python3",
   "display_name": "Python 3"
  }
 },
 "nbformat": 4,
 "nbformat_minor": 2,
 "cells": [
  {
   "cell_type": "code",
   "execution_count": 3,
   "metadata": {},
   "outputs": [
    {
     "output_type": "stream",
     "name": "stdout",
     "text": [
      "<urllib3.response.HTTPResponse object at 0x00000283C079DC70>\n"
     ]
    }
   ],
   "source": [
    "import requests\n",
    "url = 'http://bit.ly/2JnsHnT'\n",
    "r = requests.get(url, stream=True).raw\n",
    "print(r)"
   ]
  },
  {
   "cell_type": "code",
   "execution_count": 4,
   "metadata": {},
   "outputs": [],
   "source": [
    "from PIL import Image\n",
    "img = Image.open(r)\n",
    "img.show()\n",
    "img.save('src.png')"
   ]
  },
  {
   "cell_type": "code",
   "execution_count": 5,
   "metadata": {},
   "outputs": [
    {
     "output_type": "stream",
     "name": "stdout",
     "text": [
      "<bound method ImageFile.get_format_mimetype of <PIL.PngImagePlugin.PngImageFile image mode=RGB size=2918x3024 at 0x283C11D3C70>>\n"
     ]
    }
   ],
   "source": [
    "print(img.get_format_mimetype)\n"
   ]
  },
  {
   "cell_type": "code",
   "execution_count": 10,
   "metadata": {},
   "outputs": [],
   "source": [
    "BUF_SIZE = 1024\n",
    "with open('src.png', 'rb') as sf, open ('dst.png', 'wb') as df:\n",
    "    while True:\n",
    "        data = sf.read(BUF_SIZE)\n",
    "        if not data:\n",
    "            break\n",
    "        df.write(data)"
   ]
  },
  {
   "cell_type": "code",
   "execution_count": 11,
   "metadata": {},
   "outputs": [
    {
     "output_type": "stream",
     "name": "stdout",
     "text": [
      "src.png`s hash : c297b8f0d3fd8a4c38bc826607d744778e11815ba3e22ffde1dc69d8dfe5800a\ndst.png`s hash : c297b8f0d3fd8a4c38bc826607d744778e11815ba3e22ffde1dc69d8dfe5800a\n"
     ]
    }
   ],
   "source": [
    "import hashlib\n",
    "sha_src = hashlib.sha256()\n",
    "sha_dst = hashlib.sha256()\n",
    "with open ('src.png', 'rb') as sf, open ('dst.png', 'rb') as df:\n",
    "    sha_src.update(sf.read())\n",
    "    sha_dst.update(df.read())\n",
    "print('src.png`s hash : {}'.format(sha_src.hexdigest()))\n",
    "print('dst.png`s hash : {}'.format(sha_dst.hexdigest()))"
   ]
  },
  {
   "cell_type": "code",
   "execution_count": null,
   "metadata": {},
   "outputs": [],
   "source": []
  }
 ]
}