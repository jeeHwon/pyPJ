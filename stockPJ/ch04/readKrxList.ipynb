{
 "metadata": {
  "language_info": {
   "codemirror_mode": {
    "name": "ipython",
    "version": 3
   },
   "file_extension": ".py",
   "mimetype": "text/x-python",
   "name": "python",
   "nbconvert_exporter": "python",
   "pygments_lexer": "ipython3",
   "version": "3.7.9-final"
  },
  "orig_nbformat": 2,
  "kernelspec": {
   "name": "python3",
   "display_name": "Python 3.7.9 32-bit ('Py380_32')",
   "metadata": {
    "interpreter": {
     "hash": "0191579ae899b980170ca7a2b1f24a77223337984ada059fc7c95dcb744d205e"
    }
   }
  }
 },
 "nbformat": 4,
 "nbformat_minor": 2,
 "cells": [
  {
   "cell_type": "code",
   "execution_count": 1,
   "metadata": {},
   "outputs": [
    {
     "output_type": "execute_result",
     "data": {
      "text/plain": [
       "           회사명    종목코드               업종  \\\n",
       "0         JS전선  005560    절연선 및 케이블 제조업   \n",
       "1        거북선2호  101380              NaN   \n",
       "2        거북선6호  114140              NaN   \n",
       "3        교보메리츠  064900              NaN   \n",
       "4       국제관광공사  028780              NaN   \n",
       "...        ...     ...              ...   \n",
       "3883        툴젠  199800  자연과학 및 공학 연구개발업   \n",
       "3884  플럼라인생명과학  222670  자연과학 및 공학 연구개발업   \n",
       "3885   피엔에이치테크  239890      기초 화학물질 제조업   \n",
       "3886  한국미라클피플사  331660      기타 화학제품 제조업   \n",
       "3887       휴벡셀  212310       의료용 기기 제조업   \n",
       "\n",
       "                                                   주요제품         상장일  결산월  \\\n",
       "0                                    선박선,고무선,전력선,통신선 제조  2007-11-12  12월   \n",
       "1                                           운송장비(선박) 임대  2008-04-25  12월   \n",
       "2                                                   NaN  2009-10-01  12월   \n",
       "3                                             부동산 투자,운용  2002-01-30  12월   \n",
       "4                                                   NaN  1966-03-18  12월   \n",
       "...                                                 ...         ...  ...   \n",
       "3883  유전자가위 (유전체 교정 도구) 및 이를 이용한 유전자세포치료제, 고부가가치 가축,...  2014-06-25  12월   \n",
       "3884                                   강아지암치료제,돼지DNA테라피  2015-07-28  12월   \n",
       "3885                             OLED완성체, OLED중간체, Pd촉매  2016-08-16  12월   \n",
       "3886                                     은나노스텝, 닥터오렌지 등  2019-10-28  12월   \n",
       "3887                                         척추용 임플란트 등  2016-07-26  12월   \n",
       "\n",
       "                   대표자명                      홈페이지       지역  \n",
       "0                   이익희  http://www.jscable.co.kr     충청남도  \n",
       "1                   신주선                       NaN    부산광역시  \n",
       "2                   김연신                       NaN  제주특별자치도  \n",
       "3                 김 상 진                       NaN    서울특별시  \n",
       "4                   NaN                       NaN      NaN  \n",
       "...                 ...                       ...      ...  \n",
       "3883  김영호, 이병화(각자 대표이사)    http://www.toolgen.com    서울특별시  \n",
       "3884             김앤토니경태     http://www.plsdna.com    서울특별시  \n",
       "3885                현서용   http://www.phtech.co.kr      경기도  \n",
       "3886                이호경     http://www.kmpc.co.kr      경기도  \n",
       "3887     박정민, 허성규(각자대표)        http://huvexel.com      경기도  \n",
       "\n",
       "[3888 rows x 9 columns]"
      ],
      "text/html": "<div>\n<style scoped>\n    .dataframe tbody tr th:only-of-type {\n        vertical-align: middle;\n    }\n\n    .dataframe tbody tr th {\n        vertical-align: top;\n    }\n\n    .dataframe thead th {\n        text-align: right;\n    }\n</style>\n<table border=\"1\" class=\"dataframe\">\n  <thead>\n    <tr style=\"text-align: right;\">\n      <th></th>\n      <th>회사명</th>\n      <th>종목코드</th>\n      <th>업종</th>\n      <th>주요제품</th>\n      <th>상장일</th>\n      <th>결산월</th>\n      <th>대표자명</th>\n      <th>홈페이지</th>\n      <th>지역</th>\n    </tr>\n  </thead>\n  <tbody>\n    <tr>\n      <th>0</th>\n      <td>JS전선</td>\n      <td>005560</td>\n      <td>절연선 및 케이블 제조업</td>\n      <td>선박선,고무선,전력선,통신선 제조</td>\n      <td>2007-11-12</td>\n      <td>12월</td>\n      <td>이익희</td>\n      <td>http://www.jscable.co.kr</td>\n      <td>충청남도</td>\n    </tr>\n    <tr>\n      <th>1</th>\n      <td>거북선2호</td>\n      <td>101380</td>\n      <td>NaN</td>\n      <td>운송장비(선박) 임대</td>\n      <td>2008-04-25</td>\n      <td>12월</td>\n      <td>신주선</td>\n      <td>NaN</td>\n      <td>부산광역시</td>\n    </tr>\n    <tr>\n      <th>2</th>\n      <td>거북선6호</td>\n      <td>114140</td>\n      <td>NaN</td>\n      <td>NaN</td>\n      <td>2009-10-01</td>\n      <td>12월</td>\n      <td>김연신</td>\n      <td>NaN</td>\n      <td>제주특별자치도</td>\n    </tr>\n    <tr>\n      <th>3</th>\n      <td>교보메리츠</td>\n      <td>064900</td>\n      <td>NaN</td>\n      <td>부동산 투자,운용</td>\n      <td>2002-01-30</td>\n      <td>12월</td>\n      <td>김 상 진</td>\n      <td>NaN</td>\n      <td>서울특별시</td>\n    </tr>\n    <tr>\n      <th>4</th>\n      <td>국제관광공사</td>\n      <td>028780</td>\n      <td>NaN</td>\n      <td>NaN</td>\n      <td>1966-03-18</td>\n      <td>12월</td>\n      <td>NaN</td>\n      <td>NaN</td>\n      <td>NaN</td>\n    </tr>\n    <tr>\n      <th>...</th>\n      <td>...</td>\n      <td>...</td>\n      <td>...</td>\n      <td>...</td>\n      <td>...</td>\n      <td>...</td>\n      <td>...</td>\n      <td>...</td>\n      <td>...</td>\n    </tr>\n    <tr>\n      <th>3883</th>\n      <td>툴젠</td>\n      <td>199800</td>\n      <td>자연과학 및 공학 연구개발업</td>\n      <td>유전자가위 (유전체 교정 도구) 및 이를 이용한 유전자세포치료제, 고부가가치 가축,...</td>\n      <td>2014-06-25</td>\n      <td>12월</td>\n      <td>김영호, 이병화(각자 대표이사)</td>\n      <td>http://www.toolgen.com</td>\n      <td>서울특별시</td>\n    </tr>\n    <tr>\n      <th>3884</th>\n      <td>플럼라인생명과학</td>\n      <td>222670</td>\n      <td>자연과학 및 공학 연구개발업</td>\n      <td>강아지암치료제,돼지DNA테라피</td>\n      <td>2015-07-28</td>\n      <td>12월</td>\n      <td>김앤토니경태</td>\n      <td>http://www.plsdna.com</td>\n      <td>서울특별시</td>\n    </tr>\n    <tr>\n      <th>3885</th>\n      <td>피엔에이치테크</td>\n      <td>239890</td>\n      <td>기초 화학물질 제조업</td>\n      <td>OLED완성체, OLED중간체, Pd촉매</td>\n      <td>2016-08-16</td>\n      <td>12월</td>\n      <td>현서용</td>\n      <td>http://www.phtech.co.kr</td>\n      <td>경기도</td>\n    </tr>\n    <tr>\n      <th>3886</th>\n      <td>한국미라클피플사</td>\n      <td>331660</td>\n      <td>기타 화학제품 제조업</td>\n      <td>은나노스텝, 닥터오렌지 등</td>\n      <td>2019-10-28</td>\n      <td>12월</td>\n      <td>이호경</td>\n      <td>http://www.kmpc.co.kr</td>\n      <td>경기도</td>\n    </tr>\n    <tr>\n      <th>3887</th>\n      <td>휴벡셀</td>\n      <td>212310</td>\n      <td>의료용 기기 제조업</td>\n      <td>척추용 임플란트 등</td>\n      <td>2016-07-26</td>\n      <td>12월</td>\n      <td>박정민, 허성규(각자대표)</td>\n      <td>http://huvexel.com</td>\n      <td>경기도</td>\n    </tr>\n  </tbody>\n</table>\n<p>3888 rows × 9 columns</p>\n</div>"
     },
     "metadata": {},
     "execution_count": 1
    }
   ],
   "source": [
    "import pandas as pd \n",
    "krx_list = pd.read_html('https://kind.krx.co.kr/corpgeneral/corpList.do?method=download&serachType=13')\n",
    "krx_list[0].종목코드 = krx_list[0].종목코드.map('{:06d}'.format)\n",
    "krx_list[0]"
   ]
  },
  {
   "cell_type": "code",
   "execution_count": null,
   "metadata": {},
   "outputs": [],
   "source": []
  }
 ]
}