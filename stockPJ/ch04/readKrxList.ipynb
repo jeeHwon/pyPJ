{
 "metadata": {
  "language_info": {
   "codemirror_mode": {
    "name": "ipython",
    "version": 3
   },
   "file_extension": ".py",
   "mimetype": "text/x-python",
   "name": "python",
   "nbconvert_exporter": "python",
   "pygments_lexer": "ipython3",
   "version": "3.8.4-final"
  },
  "orig_nbformat": 2,
  "kernelspec": {
   "name": "python3",
   "display_name": "Python 3.8.4 32-bit ('Py380_32')",
   "metadata": {
    "interpreter": {
     "hash": "5abb369ba1df330c0cfccd66b7594f6186e26c8124d8f4fa0d29b2e475221cb2"
    }
   }
  }
 },
 "nbformat": 4,
 "nbformat_minor": 2,
 "cells": [
  {
   "cell_type": "code",
   "execution_count": 4,
   "metadata": {},
   "outputs": [
    {
     "output_type": "execute_result",
     "data": {
      "text/plain": [
       "           회사명    종목코드                                     업종  \\\n",
       "0        고바이오랩  348150                        자연과학 및 공학 연구개발업   \n",
       "1        네패스아크  330860                 그외 기타 전문, 과학 및 기술 서비스업   \n",
       "2       교촌에프앤비  339770                         음·식료품 및 담배 도매업   \n",
       "3          소룩스  290690                          전구 및 조명장치 제조업   \n",
       "4          위드텍  348350  측정, 시험, 항해, 제어 및 기타 정밀기기 제조업; 광학기기 제외   \n",
       "...        ...     ...                                    ...   \n",
       "2384    CJ대한통운  000120                              도로 화물 운송업   \n",
       "2385     메리츠화재  000060                                    보험업   \n",
       "2386        경방  000050                                 종합 소매업   \n",
       "2387     유수홀딩스  000700                    회사 본부 및 경영 컨설팅 서비스업   \n",
       "2388  한진중공업홀딩스  003480                      연료용 가스 제조 및 배관공급업   \n",
       "\n",
       "                                                   주요제품         상장일  결산월  \\\n",
       "0                                  마이크로바이옴 치료제 및 건강기능식품  2020-11-18  12월   \n",
       "1                                           반도체 테스트 서비스  2020-11-17  12월   \n",
       "2                                              치킨 프랜차이즈  2020-11-12  12월   \n",
       "3                              실내등(형광등, LED등), 실외등, 특수등  2020-11-06  12월   \n",
       "4                  AMCs 모니터링 시스템, 공정 프로세스 모니터링 시스템, TMS  2020-10-30  12월   \n",
       "...                                                 ...         ...  ...   \n",
       "2384  Contract Logistics, 포워딩, 항만하역, 해운, 택배국제특송, SCM...  1956-07-02  12월   \n",
       "2385                                   손해보험(화재,해상,운송보험)  1956-07-02  12월   \n",
       "2386          섬유류(면사,면혼방사,면직물,면혼방직물,화섬사,화섬직물) 제조,도매,수출입  1956-03-03  12월   \n",
       "2387                                               지주사업  1956-03-03  12월   \n",
       "2388                                               지주회사  1956-03-03  12월   \n",
       "\n",
       "          대표자명                          홈페이지     지역  \n",
       "0     고광표, 박철원          http://kobiolabs.com  서울특별시  \n",
       "1          이창우         http://nepesark.co.kr   충청북도  \n",
       "2          소진세         http://kyochonfnb.com   경상북도  \n",
       "3          김복덕        http://www.solux.co.kr   충청남도  \n",
       "4          유승교     http://www.withtech.co.kr  대전광역시  \n",
       "...        ...                           ...    ...  \n",
       "2384       박근희    http://www.cjlogistics.com  서울특별시  \n",
       "2385       김용범     http://www.meritzfire.com  서울특별시  \n",
       "2386    김준, 김담    http://www.kyungbang.co.kr  서울특별시  \n",
       "2387       송영규  http://www.eusu-holdings.com  서울특별시  \n",
       "2388  조남호, 조원국  http://www.hhic-holdings.com    경기도  \n",
       "\n",
       "[2389 rows x 9 columns]"
      ],
      "text/html": "<div>\n<style scoped>\n    .dataframe tbody tr th:only-of-type {\n        vertical-align: middle;\n    }\n\n    .dataframe tbody tr th {\n        vertical-align: top;\n    }\n\n    .dataframe thead th {\n        text-align: right;\n    }\n</style>\n<table border=\"1\" class=\"dataframe\">\n  <thead>\n    <tr style=\"text-align: right;\">\n      <th></th>\n      <th>회사명</th>\n      <th>종목코드</th>\n      <th>업종</th>\n      <th>주요제품</th>\n      <th>상장일</th>\n      <th>결산월</th>\n      <th>대표자명</th>\n      <th>홈페이지</th>\n      <th>지역</th>\n    </tr>\n  </thead>\n  <tbody>\n    <tr>\n      <th>0</th>\n      <td>고바이오랩</td>\n      <td>348150</td>\n      <td>자연과학 및 공학 연구개발업</td>\n      <td>마이크로바이옴 치료제 및 건강기능식품</td>\n      <td>2020-11-18</td>\n      <td>12월</td>\n      <td>고광표, 박철원</td>\n      <td>http://kobiolabs.com</td>\n      <td>서울특별시</td>\n    </tr>\n    <tr>\n      <th>1</th>\n      <td>네패스아크</td>\n      <td>330860</td>\n      <td>그외 기타 전문, 과학 및 기술 서비스업</td>\n      <td>반도체 테스트 서비스</td>\n      <td>2020-11-17</td>\n      <td>12월</td>\n      <td>이창우</td>\n      <td>http://nepesark.co.kr</td>\n      <td>충청북도</td>\n    </tr>\n    <tr>\n      <th>2</th>\n      <td>교촌에프앤비</td>\n      <td>339770</td>\n      <td>음·식료품 및 담배 도매업</td>\n      <td>치킨 프랜차이즈</td>\n      <td>2020-11-12</td>\n      <td>12월</td>\n      <td>소진세</td>\n      <td>http://kyochonfnb.com</td>\n      <td>경상북도</td>\n    </tr>\n    <tr>\n      <th>3</th>\n      <td>소룩스</td>\n      <td>290690</td>\n      <td>전구 및 조명장치 제조업</td>\n      <td>실내등(형광등, LED등), 실외등, 특수등</td>\n      <td>2020-11-06</td>\n      <td>12월</td>\n      <td>김복덕</td>\n      <td>http://www.solux.co.kr</td>\n      <td>충청남도</td>\n    </tr>\n    <tr>\n      <th>4</th>\n      <td>위드텍</td>\n      <td>348350</td>\n      <td>측정, 시험, 항해, 제어 및 기타 정밀기기 제조업; 광학기기 제외</td>\n      <td>AMCs 모니터링 시스템, 공정 프로세스 모니터링 시스템, TMS</td>\n      <td>2020-10-30</td>\n      <td>12월</td>\n      <td>유승교</td>\n      <td>http://www.withtech.co.kr</td>\n      <td>대전광역시</td>\n    </tr>\n    <tr>\n      <th>...</th>\n      <td>...</td>\n      <td>...</td>\n      <td>...</td>\n      <td>...</td>\n      <td>...</td>\n      <td>...</td>\n      <td>...</td>\n      <td>...</td>\n      <td>...</td>\n    </tr>\n    <tr>\n      <th>2384</th>\n      <td>CJ대한통운</td>\n      <td>000120</td>\n      <td>도로 화물 운송업</td>\n      <td>Contract Logistics, 포워딩, 항만하역, 해운, 택배국제특송, SCM...</td>\n      <td>1956-07-02</td>\n      <td>12월</td>\n      <td>박근희</td>\n      <td>http://www.cjlogistics.com</td>\n      <td>서울특별시</td>\n    </tr>\n    <tr>\n      <th>2385</th>\n      <td>메리츠화재</td>\n      <td>000060</td>\n      <td>보험업</td>\n      <td>손해보험(화재,해상,운송보험)</td>\n      <td>1956-07-02</td>\n      <td>12월</td>\n      <td>김용범</td>\n      <td>http://www.meritzfire.com</td>\n      <td>서울특별시</td>\n    </tr>\n    <tr>\n      <th>2386</th>\n      <td>경방</td>\n      <td>000050</td>\n      <td>종합 소매업</td>\n      <td>섬유류(면사,면혼방사,면직물,면혼방직물,화섬사,화섬직물) 제조,도매,수출입</td>\n      <td>1956-03-03</td>\n      <td>12월</td>\n      <td>김준, 김담</td>\n      <td>http://www.kyungbang.co.kr</td>\n      <td>서울특별시</td>\n    </tr>\n    <tr>\n      <th>2387</th>\n      <td>유수홀딩스</td>\n      <td>000700</td>\n      <td>회사 본부 및 경영 컨설팅 서비스업</td>\n      <td>지주사업</td>\n      <td>1956-03-03</td>\n      <td>12월</td>\n      <td>송영규</td>\n      <td>http://www.eusu-holdings.com</td>\n      <td>서울특별시</td>\n    </tr>\n    <tr>\n      <th>2388</th>\n      <td>한진중공업홀딩스</td>\n      <td>003480</td>\n      <td>연료용 가스 제조 및 배관공급업</td>\n      <td>지주회사</td>\n      <td>1956-03-03</td>\n      <td>12월</td>\n      <td>조남호, 조원국</td>\n      <td>http://www.hhic-holdings.com</td>\n      <td>경기도</td>\n    </tr>\n  </tbody>\n</table>\n<p>2389 rows × 9 columns</p>\n</div>"
     },
     "metadata": {},
     "execution_count": 4
    }
   ],
   "source": [
    "import pandas as pd \n",
    "krx_list = pd.read_html('C:/Users/HOME/Desktop/pythonWK/data/상장법인목록.xls')\n",
    "krx_list[0].종목코드 = krx_list[0].종목코드.map('{:06d}'.format)\n",
    "krx_list[0]"
   ]
  },
  {
   "cell_type": "code",
   "execution_count": null,
   "metadata": {},
   "outputs": [],
   "source": []
  }
 ]
}