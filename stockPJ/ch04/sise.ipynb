{
 "metadata": {
  "language_info": {
   "codemirror_mode": {
    "name": "ipython",
    "version": 3
   },
   "file_extension": ".py",
   "mimetype": "text/x-python",
   "name": "python",
   "nbconvert_exporter": "python",
   "pygments_lexer": "ipython3",
   "version": "3.8.3-final"
  },
  "orig_nbformat": 2,
  "kernelspec": {
   "name": "python3",
   "display_name": "Python 3"
  }
 },
 "nbformat": 4,
 "nbformat_minor": 2,
 "cells": [
  {
   "cell_type": "code",
   "execution_count": 22,
   "metadata": {},
   "outputs": [],
   "source": [
    "from bs4 import BeautifulSoup\n",
    "from urllib.request import urlopen\n",
    "\n",
    "url = 'https://finance.naver.com/item/sise_day.nhn?code=068270&page=1'\n",
    "with urlopen(url) as doc:\n",
    "    html = BeautifulSoup(doc, 'lxml')\n",
    "    pgrr = html.find('td', class_='pgRR')\n",
    "    s = str(pgrr.a['href']).split('=')\n",
    "    last_page = s[-1]\n",
    "     "
   ]
  },
  {
   "cell_type": "code",
   "execution_count": 27,
   "metadata": {},
   "outputs": [
    {
     "output_type": "stream",
     "name": "stdout",
     "text": [
      "            날짜        종가     전일비        시가        고가        저가       거래량\n1   2020.11.19  294000.0  3000.0  299000.0  301000.0  292500.0  997283.0\n2   2020.11.18  291000.0  5000.0  287500.0  293000.0  285000.0  633875.0\n3   2020.11.17  286000.0  2500.0  286500.0  293000.0  282500.0  917309.0\n4   2020.11.16  288500.0  1500.0  291000.0  294500.0  288000.0  590641.0\n5   2020.11.13  290000.0  2000.0  289500.0  294500.0  283500.0  832467.0\n..         ...       ...     ...       ...       ...       ...       ...\n1   2005.07.25    5650.0    70.0    5500.0    5950.0    5500.0   61036.0\n2   2005.07.22    5580.0   160.0    5850.0    5850.0    5530.0   69921.0\n3   2005.07.21    5740.0   810.0    6450.0    6580.0    5730.0  182685.0\n4   2005.07.20    6550.0  1150.0    7690.0    7690.0    6550.0  422688.0\n5   2005.07.19    7700.0  2500.0    6700.0    7700.0    6510.0  499088.0\n\n[3795 rows x 7 columns]\n"
     ]
    }
   ],
   "source": [
    "import pandas as pd\n",
    "df = pd.DataFrame()\n",
    "sise_url = 'https://finance.naver.com/item/sise_day.nhn?code=068270'\n",
    "\n",
    "for page in range(1, int(last_page)+1):\n",
    "    page_url = '{}&page={}'.format(sise_url, page)\n",
    "    df = df.append(pd.read_html(page_url, header=0)[0])\n",
    "    \n",
    "df = df.dropna()\n",
    "print(df)"
   ]
  },
  {
   "cell_type": "code",
   "execution_count": null,
   "metadata": {},
   "outputs": [],
   "source": []
  }
 ]
}