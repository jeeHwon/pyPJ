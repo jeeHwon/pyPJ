{
 "metadata": {
  "language_info": {
   "codemirror_mode": {
    "name": "ipython",
    "version": 3
   },
   "file_extension": ".py",
   "mimetype": "text/x-python",
   "name": "python",
   "nbconvert_exporter": "python",
   "pygments_lexer": "ipython3",
   "version": "3.8.4-final"
  },
  "orig_nbformat": 2,
  "kernelspec": {
   "name": "python3",
   "display_name": "Python 3.8.4 32-bit ('Py380_32')",
   "metadata": {
    "interpreter": {
     "hash": "5abb369ba1df330c0cfccd66b7594f6186e26c8124d8f4fa0d29b2e475221cb2"
    }
   }
  }
 },
 "nbformat": 4,
 "nbformat_minor": 2,
 "cells": [
  {
   "cell_type": "code",
   "execution_count": 1,
   "metadata": {},
   "outputs": [],
   "source": [
    "import numpy as np"
   ]
  },
  {
   "cell_type": "code",
   "execution_count": 2,
   "metadata": {},
   "outputs": [
    {
     "output_type": "stream",
     "name": "stdout",
     "text": [
      "(3,)\n1\n"
     ]
    }
   ],
   "source": [
    "# column vector\n",
    "c = np.array([1,2,3])\n",
    "print(c.shape)\n",
    "\n",
    "# obataining a particular entry\n",
    "print(c[0])"
   ]
  },
  {
   "cell_type": "code",
   "execution_count": 3,
   "metadata": {},
   "outputs": [
    {
     "output_type": "stream",
     "name": "stdout",
     "text": [
      "(1, 3)\n2\n"
     ]
    }
   ],
   "source": [
    "# row vector\n",
    "r = np.array([ [1,2,3] ])\n",
    "print(r.shape)\n",
    "\n",
    "#obtaining a particular entry\n",
    "print(r[0,1])"
   ]
  },
  {
   "cell_type": "code",
   "execution_count": 4,
   "metadata": {},
   "outputs": [
    {
     "output_type": "stream",
     "name": "stdout",
     "text": [
      "[[0. 0.]\n [0. 0.]]\n[[1. 1.]\n [1. 1.]]\n"
     ]
    }
   ],
   "source": [
    "# creating a matrix with all zeros\n",
    "a = np.zeros((2,2))\n",
    "print(a)\n",
    "\n",
    "# creating a matrix with all ones\n",
    "b = np.ones((2,2))\n",
    "print(b)"
   ]
  },
  {
   "cell_type": "code",
   "execution_count": 5,
   "metadata": {},
   "outputs": [
    {
     "output_type": "stream",
     "name": "stdout",
     "text": [
      "[[7 7]\n [7 7]]\n[[0.14966117 0.23714771]\n [0.91167641 0.10576365]]\n"
     ]
    }
   ],
   "source": [
    "# creating a matrix filled with the same constant\n",
    "c = np.full((2,2), 7)\n",
    "print(c)\n",
    "\n",
    "# creating a matrix with random values\n",
    "d = np.random.random((2,2))\n",
    "print(d)"
   ]
  },
  {
   "cell_type": "code",
   "execution_count": 6,
   "metadata": {},
   "outputs": [
    {
     "output_type": "stream",
     "name": "stdout",
     "text": [
      "[[1 2]\n [3 4]\n [5 6]]\n[[11 12 13 14]\n [15 16 17 18]]\n"
     ]
    }
   ],
   "source": [
    "# creating a matrix\n",
    "A = np.array([[1,2],[3,4],[5,6]])\n",
    "print(A)\n",
    "\n",
    "# creating another matrix\n",
    "B = np.array([[11,12,13,14],[15,16,17,18]])\n",
    "print(B)"
   ]
  },
  {
   "cell_type": "code",
   "execution_count": 7,
   "metadata": {},
   "outputs": [
    {
     "output_type": "execute_result",
     "data": {
      "text/plain": [
       "array([[1, 3, 5],\n",
       "       [2, 4, 6]])"
      ]
     },
     "metadata": {},
     "execution_count": 7
    }
   ],
   "source": [
    "# transpose a matrix\n",
    "A.T"
   ]
  },
  {
   "cell_type": "code",
   "execution_count": 8,
   "metadata": {},
   "outputs": [
    {
     "output_type": "execute_result",
     "data": {
      "text/plain": [
       "array([[ 41,  44,  47,  50],\n",
       "       [ 93, 100, 107, 114],\n",
       "       [145, 156, 167, 178]])"
      ]
     },
     "metadata": {},
     "execution_count": 8
    }
   ],
   "source": [
    "# matrix-matrix multiplication\n",
    "np.dot(A,B)"
   ]
  },
  {
   "cell_type": "code",
   "execution_count": 13,
   "metadata": {},
   "outputs": [
    {
     "output_type": "stream",
     "name": "stdout",
     "text": [
      "[[60.   5.5  1. ]\n [65.   5.   0. ]\n [55.   6.   1. ]]\n[66 70 78]\n"
     ]
    }
   ],
   "source": [
    "# coefficient matrix A and a vector b\n",
    "A = np.array([[60, 5.5, 1],[65, 5.0, 0],[55, 6.0, 1]])\n",
    "b = np.array([66,70,78])\n",
    "print(A)\n",
    "print(b)"
   ]
  },
  {
   "cell_type": "code",
   "execution_count": 10,
   "metadata": {},
   "outputs": [
    {
     "output_type": "execute_result",
     "data": {
      "text/plain": [
       "array([[1., 0., 0.],\n",
       "       [0., 1., 0.],\n",
       "       [0., 0., 1.]])"
      ]
     },
     "metadata": {},
     "execution_count": 10
    }
   ],
   "source": [
    "# identity matrix\n",
    "eye3 = np.eye(3)\n",
    "eye3"
   ]
  },
  {
   "cell_type": "code",
   "execution_count": 12,
   "metadata": {},
   "outputs": [
    {
     "output_type": "execute_result",
     "data": {
      "text/plain": [
       "array([[ 0.08695652,  0.00869565, -0.08695652],\n",
       "       [-1.13043478,  0.08695652,  1.13043478],\n",
       "       [ 2.        , -1.        , -1.        ]])"
      ]
     },
     "metadata": {},
     "execution_count": 12
    }
   ],
   "source": [
    "# computing an inverse\n",
    "from numpy.linalg import inv\n",
    "A_inv = inv(A)\n",
    "A_inv"
   ]
  },
  {
   "cell_type": "code",
   "execution_count": 15,
   "metadata": {},
   "outputs": [
    {
     "output_type": "execute_result",
     "data": {
      "text/plain": [
       "array([[ 5.21739130e+00,  4.78260870e-02, -8.69565217e-02],\n",
       "       [-7.34782609e+01,  4.34782609e-01,  0.00000000e+00],\n",
       "       [ 1.10000000e+02, -6.00000000e+00, -1.00000000e+00]])"
      ]
     },
     "metadata": {},
     "execution_count": 15
    }
   ],
   "source": [
    "# wrong matrix multiplication\n",
    "A*A_inv"
   ]
  },
  {
   "cell_type": "code",
   "execution_count": 16,
   "metadata": {},
   "outputs": [
    {
     "output_type": "execute_result",
     "data": {
      "text/plain": [
       "array([[ 1.0000000e+00,  0.0000000e+00,  0.0000000e+00],\n",
       "       [ 8.8817842e-16,  1.0000000e+00, -8.8817842e-16],\n",
       "       [-8.8817842e-16,  0.0000000e+00,  1.0000000e+00]])"
      ]
     },
     "metadata": {},
     "execution_count": 16
    }
   ],
   "source": [
    "# correct matrix multiplication\n",
    "A.dot(A_inv)"
   ]
  },
  {
   "cell_type": "code",
   "execution_count": 17,
   "metadata": {},
   "outputs": [
    {
     "output_type": "execute_result",
     "data": {
      "text/plain": [
       "array([ -0.43478261,  19.65217391, -16.        ])"
      ]
     },
     "metadata": {},
     "execution_count": 17
    }
   ],
   "source": [
    "# solution of a linear system\n",
    "x = A_inv.dot(b)\n",
    "x"
   ]
  },
  {
   "cell_type": "code",
   "execution_count": 18,
   "metadata": {},
   "outputs": [
    {
     "output_type": "execute_result",
     "data": {
      "text/plain": [
       "array([ -0.43478261,  19.65217391, -16.        ])"
      ]
     },
     "metadata": {},
     "execution_count": 18
    }
   ],
   "source": [
    "# a better way to solve the same linear system\n",
    "from numpy.linalg import solve\n",
    "x = solve(A,b)\n",
    "x"
   ]
  },
  {
   "cell_type": "code",
   "execution_count": null,
   "metadata": {},
   "outputs": [],
   "source": []
  }
 ]
}